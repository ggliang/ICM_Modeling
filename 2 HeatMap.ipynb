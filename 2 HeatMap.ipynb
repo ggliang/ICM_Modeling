{
 "cells": [
  {
   "cell_type": "code",
   "execution_count": 6,
   "metadata": {
    "collapsed": true
   },
   "outputs": [
    {
     "data": {
      "text/plain": "<Figure size 1200x800 with 0 Axes>"
     },
     "metadata": {},
     "output_type": "display_data"
    }
   ],
   "source": [
    "#HEATMAP\n",
    "import matplotlib.pyplot as plt\n",
    "from pyheatmap.heatmap import HeatMap\n",
    "import pandas as pd\n",
    "path = './Dataset/'\n",
    "address_csv = 'passingevents.csv'\n",
    "df = pd.read_csv(path + address_csv)\n",
    "_df1 = df[df['TeamID']=='Huskies']\n",
    "_df2 = df[df['TeamID']=='Huskies']\n",
    "\n",
    "_x1 = list(_df1['EventOrigin_x'])\n",
    "_x2 = list(_df2['EventDestination_x'])\n",
    "\n",
    "_y1 = list(_df1['EventOrigin_y'])\n",
    "_y2 = list(_df2['EventDestination_y'])\n",
    "point=[]\n",
    "__x1=[]\n",
    "__x2=[]\n",
    "__y1=[]\n",
    "__y2=[]\n",
    "size=20\n",
    "for i in range(len(_x1)):\n",
    "    __x1.append(size*_x1[i])\n",
    "    __x2.append(size*_x2[i])\n",
    "    __y1.append(int(size*_y1[i]*68/105))\n",
    "    __y2.append(int(size*_y2[i]*68/105))\n",
    "for i in range(len(_x1)):\n",
    "    point.append([__x1[i],__y1[i]])\n",
    "    point.append([__x2[i],__y2[i]])\n",
    "\n",
    "\n",
    "plt.figure(dpi=200)\n",
    "\n",
    "hm = HeatMap(point)\n",
    "plt.show(hm)"
   ]
  },
  {
   "cell_type": "code",
   "execution_count": null,
   "outputs": [],
   "source": [],
   "metadata": {
    "collapsed": false,
    "pycharm": {
     "name": "#%%\n"
    }
   }
  }
 ],
 "metadata": {
  "kernelspec": {
   "display_name": "Python 3",
   "language": "python",
   "name": "python3"
  },
  "language_info": {
   "codemirror_mode": {
    "name": "ipython",
    "version": 2
   },
   "file_extension": ".py",
   "mimetype": "text/x-python",
   "name": "python",
   "nbconvert_exporter": "python",
   "pygments_lexer": "ipython2",
   "version": "2.7.6"
  }
 },
 "nbformat": 4,
 "nbformat_minor": 0
}